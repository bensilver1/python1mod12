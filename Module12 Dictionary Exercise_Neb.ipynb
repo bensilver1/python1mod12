{
 "cells": [
  {
   "cell_type": "markdown",
   "metadata": {},
   "source": [
    "### Exercise 1. \n",
    "Create a dictionary named pairs with key value pairs of:\n",
    "    - 'hello' and 'fire', \n",
    "    - 3 and 'seven', \n",
    "    - 'strong' and 45. \n",
    "\n",
    "Then, print out the dictionary."
   ]
  },
  {
   "cell_type": "code",
   "execution_count": 3,
   "metadata": {},
   "outputs": [
    {
     "name": "stdout",
     "output_type": "stream",
     "text": [
      "{'hello': 'fire', 3: 'seven', 'strong': 45}\n"
     ]
    }
   ],
   "source": [
    "pairs = {'hello': 'fire', 3: 'seven', 'strong':45}\n",
    "print(pairs)"
   ]
  },
  {
   "cell_type": "markdown",
   "metadata": {},
   "source": [
    "### Exercise 2. \n",
    "Add 'welcome' and 56 pair into <b><i>pairs</i></b> dictionary from exercise 1. Then, print out the dictionary. "
   ]
  },
  {
   "cell_type": "code",
   "execution_count": 4,
   "metadata": {},
   "outputs": [
    {
     "name": "stdout",
     "output_type": "stream",
     "text": [
      "{'hello': 'fire', 3: 'seven', 'strong': 45, 'welcome': 56}\n"
     ]
    }
   ],
   "source": [
    "pairs[\"welcome\"] = 56\n",
    "print(pairs)"
   ]
  },
  {
   "cell_type": "markdown",
   "metadata": {},
   "source": [
    "### Exercise 3. \n",
    "Delete one item from <b><i>pairs</i></b> dictionary. Then, print deleted item and the dictionary."
   ]
  },
  {
   "cell_type": "code",
   "execution_count": 5,
   "metadata": {},
   "outputs": [
    {
     "name": "stdout",
     "output_type": "stream",
     "text": [
      "before pop {'hello': 'fire', 3: 'seven', 'strong': 45, 'welcome': 56}\n",
      "45\n",
      "after pop {'hello': 'fire', 3: 'seven', 'welcome': 56}\n"
     ]
    }
   ],
   "source": [
    "\n",
    "print(f\"before pop {pairs}\")\n",
    "print(pairs.pop(\"strong\"))\n",
    "print(f\"after pop {pairs}\")"
   ]
  },
  {
   "cell_type": "markdown",
   "metadata": {},
   "source": [
    "### Exercise 4. \n",
    "Print the value of an item where key is 3 in <b><i>pairs</i></b> dicitonary"
   ]
  },
  {
   "cell_type": "code",
   "execution_count": 6,
   "metadata": {},
   "outputs": [
    {
     "name": "stdout",
     "output_type": "stream",
     "text": [
      "seven\n"
     ]
    }
   ],
   "source": [
    "print(pairs[3])"
   ]
  },
  {
   "cell_type": "markdown",
   "metadata": {},
   "source": [
    "### Exercise 5. \n",
    "Try to find out if the key called 'hello' exist in <b><i>pairs</i></b> dictionary. Print 'key is found' message if the key exists otherwise print 'key is not there'."
   ]
  },
  {
   "cell_type": "code",
   "execution_count": 7,
   "metadata": {},
   "outputs": [
    {
     "name": "stdout",
     "output_type": "stream",
     "text": [
      "key is found\n"
     ]
    }
   ],
   "source": [
    "if \"hello\" in pairs :\n",
    "    print('key is found')\n",
    "else :\n",
    "    print('key is not there')"
   ]
  },
  {
   "cell_type": "markdown",
   "metadata": {},
   "source": [
    "### Exercise 6. \n",
    "Create a Test Scores program that gets the name of students and test score from a user. Then, generate a list of students who passed and a list of students who failed where passing test score is 60 or above. "
   ]
  },
  {
   "cell_type": "code",
   "execution_count": 20,
   "metadata": {},
   "outputs": [],
   "source": [
    "def test_scoring():\n",
    "  \n",
    "    students = {}\n",
    "    num_students = int(input('Enter number of students: '))\n",
    "\n",
    "    # get student names and their test scores\n",
    "    for i in range(num_students):\n",
    "        name = input('Enter name of student: ')\n",
    "        score = int(input('Enter test score of student: '))\n",
    "        i =+ 1\n",
    "        students[name] = score\n",
    "\n",
    "    pass_students = []\n",
    "    fail_students = []\n",
    "\n",
    "    for name, score in students.items():\n",
    "        if score >= 60:\n",
    "            pass_students.append(name)\n",
    "        else:\n",
    "            fail_students.append(name)\n",
    "\n",
    "    print('Name of students who passed: ')\n",
    "    for name in pass_students:\n",
    "        print(name)\n",
    "\n",
    "    print('Name of students who failed: ')\n",
    "    for name in fail_students:\n",
    "        print(name)\n",
    "\n",
    "#print(len(students))\n",
    "#print(students)"
   ]
  },
  {
   "cell_type": "code",
   "execution_count": 23,
   "metadata": {},
   "outputs": [
    {
     "name": "stdin",
     "output_type": "stream",
     "text": [
      "Enter number of students:  3\n",
      "Enter name of student:  daniel\n",
      "Enter test score of student:  90\n",
      "Enter name of student:  jack\n",
      "Enter test score of student:  67\n",
      "Enter name of student:  neb\n",
      "Enter test score of student:  56\n"
     ]
    },
    {
     "name": "stdout",
     "output_type": "stream",
     "text": [
      "Name of students who passed: \n",
      "daniel\n",
      "jack\n",
      "Name of students who failed: \n",
      "neb\n"
     ]
    }
   ],
   "source": [
    "\n",
    "# call function.\n",
    "test_scoring()\n"
   ]
  },
  {
   "cell_type": "markdown",
   "metadata": {},
   "source": [
    "### Exercise 7. \n",
    "\n",
    "Create a Word Counter program that gets a string of text from a user and then counts the number of times a word occrs in the string. \n",
    "\n",
    "The output should look something like this:\n",
    "\n",
    "    The Word Counter Program\n",
    "    \n",
    "    Enter a text string: \n",
    "    Humpty Dumpty sat on a wall, Humpty Dumpty had a great fall. All the king’s horses and all the king’s men couldn’t put Humpty together again.\n",
    "\n",
    "    a : 2\n",
    "    again : 1\n",
    "    all : 2\n",
    "    and : 1\n",
    "    couldn’t : 1\n",
    "    dumpty : 2\n",
    "    fall : 1\n",
    "    great : 1\n",
    "    had : 1\n",
    "    horses : 1\n",
    "    humpty : 3\n",
    "    king’s : 2\n",
    "    men : 1\n",
    "    on : 1\n",
    "    put : 1\n",
    "    sat : 1\n",
    "    the : 2\n",
    "    together : 1\n",
    "    wall : 1\n",
    "\n",
    "    There were total 26 words in the text string   "
   ]
  },
  {
   "cell_type": "code",
   "execution_count": 28,
   "metadata": {},
   "outputs": [],
   "source": [
    "def word_counter(user_text):\n",
    "\n",
    "    word_counts = {}\n",
    "    \n",
    "    words = user_text.split()\n",
    "    \n",
    "    for word in words:\n",
    "        #print(word)\n",
    "        if word in word_counts:\n",
    "            word_counts[word] += 1\n",
    "            #print(word_counts)\n",
    "        else:\n",
    "            word_counts[word] = 1\n",
    "            #print(word_counts)\n",
    "    \n",
    "    #print(word_counts)\n",
    "    \n",
    "    return word_counts\n",
    "\n"
   ]
  },
  {
   "cell_type": "code",
   "execution_count": 29,
   "metadata": {},
   "outputs": [
    {
     "name": "stdin",
     "output_type": "stream",
     "text": [
      "Enter a text:  Humpty Dumpty sat on a wall, Humpty Dumpty had a great fall. All the king’s horses and all the king’s men couldn’t put Humpty together again.\n"
     ]
    },
    {
     "name": "stdout",
     "output_type": "stream",
     "text": [
      "Humpty: 3\n",
      "Dumpty: 2\n",
      "sat: 1\n",
      "on: 1\n",
      "a: 2\n",
      "wall,: 1\n",
      "had: 1\n",
      "great: 1\n",
      "fall.: 1\n",
      "All: 1\n",
      "the: 2\n",
      "king’s: 2\n",
      "horses: 1\n",
      "and: 1\n",
      "all: 1\n",
      "men: 1\n",
      "couldn’t: 1\n",
      "put: 1\n",
      "together: 1\n",
      "again.: 1\n"
     ]
    }
   ],
   "source": [
    "# get text from user\n",
    "user_text = input(\"Enter a text: \")\n",
    "\n",
    "# count word in user text\n",
    "word_counts = word_counter(user_text)\n",
    "\n",
    "# print the word how many times it occurs.\n",
    "for word, count in word_counts.items():\n",
    "    print(f\"{word}: {count}\")"
   ]
  },
  {
   "cell_type": "code",
   "execution_count": null,
   "metadata": {},
   "outputs": [],
   "source": []
  }
 ],
 "metadata": {
  "kernelspec": {
   "display_name": "Python 3 (ipykernel)",
   "language": "python",
   "name": "python3"
  },
  "language_info": {
   "codemirror_mode": {
    "name": "ipython",
    "version": 3
   },
   "file_extension": ".py",
   "mimetype": "text/x-python",
   "name": "python",
   "nbconvert_exporter": "python",
   "pygments_lexer": "ipython3",
   "version": "3.11.7"
  }
 },
 "nbformat": 4,
 "nbformat_minor": 4
}
